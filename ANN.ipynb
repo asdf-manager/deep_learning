{
 "cells": [
  {
   "cell_type": "markdown",
   "id": "ad93a48b",
   "metadata": {},
   "source": [
    "# Importing libraries"
   ]
  },
  {
   "cell_type": "code",
   "execution_count": 1,
   "id": "79d98e25",
   "metadata": {},
   "outputs": [],
   "source": [
    "# Importing necessary libraries\n",
    "import pandas as pd  # Pandas for data manipulation and analysis\n",
    "import numpy as np  # NumPy for numerical operations\n",
    "import matplotlib.pyplot as plt  # Matplotlib for data visualization\n",
    "from sklearn.model_selection import train_test_split  # For splitting data into training and testing sets\n",
    "from sklearn import preprocessing  # For data preprocessing tasks\n",
    "from imblearn.over_sampling import SMOTE  # For handling imbalanced datasets using SMOTE\n",
    "import pickle  # For serializing and deserializing Python objects\n",
    "import tensorflow as tf  # TensorFlow for building and training machine learning models\n",
    "from sklearn.metrics import accuracy_score  # For evaluating model performance\n",
    "\n",
    "# Importing TensorFlow and its components for building a neural network model\n",
    "import tensorflow as tf\n",
    "from tensorflow.keras.models import Sequential\n",
    "from tensorflow.keras.layers import Dense\n",
    "from tensorflow.keras.optimizers import Adam\n",
    "from keras.models import load_model"
   ]
  },
  {
   "cell_type": "code",
   "execution_count": 80,
   "id": "ad6e2c0c",
   "metadata": {},
   "outputs": [],
   "source": [
    "# Loading the dataset from a CSV file into a Pandas DataFrame\n",
    "dataset=pd.read_csv(\"weatherAUS.csv\")"
   ]
  },
  {
   "cell_type": "markdown",
   "id": "eb5a6ef5",
   "metadata": {},
   "source": [
    "# Data Exploration"
   ]
  },
  {
   "cell_type": "code",
   "execution_count": 81,
   "id": "ef834901",
   "metadata": {},
   "outputs": [
    {
     "data": {
      "text/html": [
       "<div>\n",
       "<style scoped>\n",
       "    .dataframe tbody tr th:only-of-type {\n",
       "        vertical-align: middle;\n",
       "    }\n",
       "\n",
       "    .dataframe tbody tr th {\n",
       "        vertical-align: top;\n",
       "    }\n",
       "\n",
       "    .dataframe thead th {\n",
       "        text-align: right;\n",
       "    }\n",
       "</style>\n",
       "<table border=\"1\" class=\"dataframe\">\n",
       "  <thead>\n",
       "    <tr style=\"text-align: right;\">\n",
       "      <th></th>\n",
       "      <th>Date</th>\n",
       "      <th>Location</th>\n",
       "      <th>MinTemp</th>\n",
       "      <th>MaxTemp</th>\n",
       "      <th>Rainfall</th>\n",
       "      <th>Evaporation</th>\n",
       "      <th>Sunshine</th>\n",
       "      <th>WindGustDir</th>\n",
       "      <th>WindGustSpeed</th>\n",
       "      <th>WindDir9am</th>\n",
       "      <th>...</th>\n",
       "      <th>Humidity9am</th>\n",
       "      <th>Humidity3pm</th>\n",
       "      <th>Pressure9am</th>\n",
       "      <th>Pressure3pm</th>\n",
       "      <th>Cloud9am</th>\n",
       "      <th>Cloud3pm</th>\n",
       "      <th>Temp9am</th>\n",
       "      <th>Temp3pm</th>\n",
       "      <th>RainToday</th>\n",
       "      <th>RainTomorrow</th>\n",
       "    </tr>\n",
       "  </thead>\n",
       "  <tbody>\n",
       "    <tr>\n",
       "      <th>145455</th>\n",
       "      <td>6/21/17</td>\n",
       "      <td>Uluru</td>\n",
       "      <td>2.8</td>\n",
       "      <td>23.4</td>\n",
       "      <td>0.0</td>\n",
       "      <td>NaN</td>\n",
       "      <td>NaN</td>\n",
       "      <td>E</td>\n",
       "      <td>31.0</td>\n",
       "      <td>SE</td>\n",
       "      <td>...</td>\n",
       "      <td>51.0</td>\n",
       "      <td>24.0</td>\n",
       "      <td>1024.6</td>\n",
       "      <td>1020.3</td>\n",
       "      <td>NaN</td>\n",
       "      <td>NaN</td>\n",
       "      <td>10.1</td>\n",
       "      <td>22.4</td>\n",
       "      <td>No</td>\n",
       "      <td>No</td>\n",
       "    </tr>\n",
       "    <tr>\n",
       "      <th>145456</th>\n",
       "      <td>6/22/17</td>\n",
       "      <td>Uluru</td>\n",
       "      <td>3.6</td>\n",
       "      <td>25.3</td>\n",
       "      <td>0.0</td>\n",
       "      <td>NaN</td>\n",
       "      <td>NaN</td>\n",
       "      <td>NNW</td>\n",
       "      <td>22.0</td>\n",
       "      <td>SE</td>\n",
       "      <td>...</td>\n",
       "      <td>56.0</td>\n",
       "      <td>21.0</td>\n",
       "      <td>1023.5</td>\n",
       "      <td>1019.1</td>\n",
       "      <td>NaN</td>\n",
       "      <td>NaN</td>\n",
       "      <td>10.9</td>\n",
       "      <td>24.5</td>\n",
       "      <td>No</td>\n",
       "      <td>No</td>\n",
       "    </tr>\n",
       "    <tr>\n",
       "      <th>145457</th>\n",
       "      <td>6/23/17</td>\n",
       "      <td>Uluru</td>\n",
       "      <td>5.4</td>\n",
       "      <td>26.9</td>\n",
       "      <td>0.0</td>\n",
       "      <td>NaN</td>\n",
       "      <td>NaN</td>\n",
       "      <td>N</td>\n",
       "      <td>37.0</td>\n",
       "      <td>SE</td>\n",
       "      <td>...</td>\n",
       "      <td>53.0</td>\n",
       "      <td>24.0</td>\n",
       "      <td>1021.0</td>\n",
       "      <td>1016.8</td>\n",
       "      <td>NaN</td>\n",
       "      <td>NaN</td>\n",
       "      <td>12.5</td>\n",
       "      <td>26.1</td>\n",
       "      <td>No</td>\n",
       "      <td>No</td>\n",
       "    </tr>\n",
       "    <tr>\n",
       "      <th>145458</th>\n",
       "      <td>6/24/17</td>\n",
       "      <td>Uluru</td>\n",
       "      <td>7.8</td>\n",
       "      <td>27.0</td>\n",
       "      <td>0.0</td>\n",
       "      <td>NaN</td>\n",
       "      <td>NaN</td>\n",
       "      <td>SE</td>\n",
       "      <td>28.0</td>\n",
       "      <td>SSE</td>\n",
       "      <td>...</td>\n",
       "      <td>51.0</td>\n",
       "      <td>24.0</td>\n",
       "      <td>1019.4</td>\n",
       "      <td>1016.5</td>\n",
       "      <td>3.0</td>\n",
       "      <td>2.0</td>\n",
       "      <td>15.1</td>\n",
       "      <td>26.0</td>\n",
       "      <td>No</td>\n",
       "      <td>No</td>\n",
       "    </tr>\n",
       "    <tr>\n",
       "      <th>145459</th>\n",
       "      <td>6/25/17</td>\n",
       "      <td>Uluru</td>\n",
       "      <td>14.9</td>\n",
       "      <td>NaN</td>\n",
       "      <td>0.0</td>\n",
       "      <td>NaN</td>\n",
       "      <td>NaN</td>\n",
       "      <td>NaN</td>\n",
       "      <td>NaN</td>\n",
       "      <td>ESE</td>\n",
       "      <td>...</td>\n",
       "      <td>62.0</td>\n",
       "      <td>36.0</td>\n",
       "      <td>1020.2</td>\n",
       "      <td>1017.9</td>\n",
       "      <td>8.0</td>\n",
       "      <td>8.0</td>\n",
       "      <td>15.0</td>\n",
       "      <td>20.9</td>\n",
       "      <td>No</td>\n",
       "      <td>NaN</td>\n",
       "    </tr>\n",
       "  </tbody>\n",
       "</table>\n",
       "<p>5 rows × 23 columns</p>\n",
       "</div>"
      ],
      "text/plain": [
       "           Date Location  MinTemp  MaxTemp  Rainfall  Evaporation  Sunshine  \\\n",
       "145455  6/21/17    Uluru      2.8     23.4       0.0          NaN       NaN   \n",
       "145456  6/22/17    Uluru      3.6     25.3       0.0          NaN       NaN   \n",
       "145457  6/23/17    Uluru      5.4     26.9       0.0          NaN       NaN   \n",
       "145458  6/24/17    Uluru      7.8     27.0       0.0          NaN       NaN   \n",
       "145459  6/25/17    Uluru     14.9      NaN       0.0          NaN       NaN   \n",
       "\n",
       "       WindGustDir  WindGustSpeed WindDir9am  ... Humidity9am  Humidity3pm  \\\n",
       "145455           E           31.0         SE  ...        51.0         24.0   \n",
       "145456         NNW           22.0         SE  ...        56.0         21.0   \n",
       "145457           N           37.0         SE  ...        53.0         24.0   \n",
       "145458          SE           28.0        SSE  ...        51.0         24.0   \n",
       "145459         NaN            NaN        ESE  ...        62.0         36.0   \n",
       "\n",
       "        Pressure9am  Pressure3pm  Cloud9am  Cloud3pm  Temp9am  Temp3pm  \\\n",
       "145455       1024.6       1020.3       NaN       NaN     10.1     22.4   \n",
       "145456       1023.5       1019.1       NaN       NaN     10.9     24.5   \n",
       "145457       1021.0       1016.8       NaN       NaN     12.5     26.1   \n",
       "145458       1019.4       1016.5       3.0       2.0     15.1     26.0   \n",
       "145459       1020.2       1017.9       8.0       8.0     15.0     20.9   \n",
       "\n",
       "        RainToday  RainTomorrow  \n",
       "145455         No            No  \n",
       "145456         No            No  \n",
       "145457         No            No  \n",
       "145458         No            No  \n",
       "145459         No           NaN  \n",
       "\n",
       "[5 rows x 23 columns]"
      ]
     },
     "execution_count": 81,
     "metadata": {},
     "output_type": "execute_result"
    }
   ],
   "source": [
    "# Displaying the last few rows of the dataset to get a quick overview\n",
    "dataset.tail()"
   ]
  },
  {
   "cell_type": "code",
   "execution_count": 82,
   "id": "dbadf818",
   "metadata": {},
   "outputs": [
    {
     "data": {
      "text/plain": [
       "(145460, 23)"
      ]
     },
     "execution_count": 82,
     "metadata": {},
     "output_type": "execute_result"
    }
   ],
   "source": [
    "# Checking the shape of the dataset (number of rows, number of columns)\n",
    "dataset.shape"
   ]
  },
  {
   "cell_type": "code",
   "execution_count": 83,
   "id": "5bc0fd0c",
   "metadata": {
    "scrolled": true
   },
   "outputs": [
    {
     "data": {
      "text/plain": [
       "Date              0.000000\n",
       "Location          0.000000\n",
       "MinTemp           1.020899\n",
       "MaxTemp           0.866905\n",
       "Rainfall          2.241853\n",
       "Evaporation      43.166506\n",
       "Sunshine         48.009762\n",
       "WindGustDir       7.098859\n",
       "WindGustSpeed     7.055548\n",
       "WindDir9am        7.263853\n",
       "WindDir3pm        2.906641\n",
       "WindSpeed9am      1.214767\n",
       "WindSpeed3pm      2.105046\n",
       "Humidity9am       1.824557\n",
       "Humidity3pm       3.098446\n",
       "Pressure9am      10.356799\n",
       "Pressure3pm      10.331363\n",
       "Cloud9am         38.421559\n",
       "Cloud3pm         40.807095\n",
       "Temp9am           1.214767\n",
       "Temp3pm           2.481094\n",
       "RainToday         2.241853\n",
       "RainTomorrow      2.245978\n",
       "dtype: float64"
      ]
     },
     "execution_count": 83,
     "metadata": {},
     "output_type": "execute_result"
    }
   ],
   "source": [
    "# Calculating the percentage of missing values for each column in the dataset\n",
    "(dataset.isnull().sum()*100)/dataset.shape[0]"
   ]
  },
  {
   "cell_type": "code",
   "execution_count": 84,
   "id": "38ec48e1",
   "metadata": {},
   "outputs": [
    {
     "data": {
      "text/html": [
       "<div>\n",
       "<style scoped>\n",
       "    .dataframe tbody tr th:only-of-type {\n",
       "        vertical-align: middle;\n",
       "    }\n",
       "\n",
       "    .dataframe tbody tr th {\n",
       "        vertical-align: top;\n",
       "    }\n",
       "\n",
       "    .dataframe thead th {\n",
       "        text-align: right;\n",
       "    }\n",
       "</style>\n",
       "<table border=\"1\" class=\"dataframe\">\n",
       "  <thead>\n",
       "    <tr style=\"text-align: right;\">\n",
       "      <th></th>\n",
       "      <th>MinTemp</th>\n",
       "      <th>MaxTemp</th>\n",
       "      <th>Rainfall</th>\n",
       "      <th>Evaporation</th>\n",
       "      <th>Sunshine</th>\n",
       "      <th>WindGustSpeed</th>\n",
       "      <th>WindSpeed9am</th>\n",
       "      <th>WindSpeed3pm</th>\n",
       "      <th>Humidity9am</th>\n",
       "      <th>Humidity3pm</th>\n",
       "      <th>Pressure9am</th>\n",
       "      <th>Pressure3pm</th>\n",
       "      <th>Cloud9am</th>\n",
       "      <th>Cloud3pm</th>\n",
       "      <th>Temp9am</th>\n",
       "      <th>Temp3pm</th>\n",
       "    </tr>\n",
       "  </thead>\n",
       "  <tbody>\n",
       "    <tr>\n",
       "      <th>count</th>\n",
       "      <td>143975.000000</td>\n",
       "      <td>144199.000000</td>\n",
       "      <td>142199.000000</td>\n",
       "      <td>82670.000000</td>\n",
       "      <td>75625.000000</td>\n",
       "      <td>135197.000000</td>\n",
       "      <td>143693.000000</td>\n",
       "      <td>142398.000000</td>\n",
       "      <td>142806.000000</td>\n",
       "      <td>140953.000000</td>\n",
       "      <td>130395.00000</td>\n",
       "      <td>130432.000000</td>\n",
       "      <td>89572.000000</td>\n",
       "      <td>86102.000000</td>\n",
       "      <td>143693.000000</td>\n",
       "      <td>141851.00000</td>\n",
       "    </tr>\n",
       "    <tr>\n",
       "      <th>mean</th>\n",
       "      <td>12.194034</td>\n",
       "      <td>23.221348</td>\n",
       "      <td>2.360918</td>\n",
       "      <td>5.468232</td>\n",
       "      <td>7.611178</td>\n",
       "      <td>40.035230</td>\n",
       "      <td>14.043426</td>\n",
       "      <td>18.662657</td>\n",
       "      <td>68.880831</td>\n",
       "      <td>51.539116</td>\n",
       "      <td>1017.64994</td>\n",
       "      <td>1015.255889</td>\n",
       "      <td>4.447461</td>\n",
       "      <td>4.509930</td>\n",
       "      <td>16.990631</td>\n",
       "      <td>21.68339</td>\n",
       "    </tr>\n",
       "    <tr>\n",
       "      <th>std</th>\n",
       "      <td>6.398495</td>\n",
       "      <td>7.119049</td>\n",
       "      <td>8.478060</td>\n",
       "      <td>4.193704</td>\n",
       "      <td>3.785483</td>\n",
       "      <td>13.607062</td>\n",
       "      <td>8.915375</td>\n",
       "      <td>8.809800</td>\n",
       "      <td>19.029164</td>\n",
       "      <td>20.795902</td>\n",
       "      <td>7.10653</td>\n",
       "      <td>7.037414</td>\n",
       "      <td>2.887159</td>\n",
       "      <td>2.720357</td>\n",
       "      <td>6.488753</td>\n",
       "      <td>6.93665</td>\n",
       "    </tr>\n",
       "    <tr>\n",
       "      <th>min</th>\n",
       "      <td>-8.500000</td>\n",
       "      <td>-4.800000</td>\n",
       "      <td>0.000000</td>\n",
       "      <td>0.000000</td>\n",
       "      <td>0.000000</td>\n",
       "      <td>6.000000</td>\n",
       "      <td>0.000000</td>\n",
       "      <td>0.000000</td>\n",
       "      <td>0.000000</td>\n",
       "      <td>0.000000</td>\n",
       "      <td>980.50000</td>\n",
       "      <td>977.100000</td>\n",
       "      <td>0.000000</td>\n",
       "      <td>0.000000</td>\n",
       "      <td>-7.200000</td>\n",
       "      <td>-5.40000</td>\n",
       "    </tr>\n",
       "    <tr>\n",
       "      <th>25%</th>\n",
       "      <td>7.600000</td>\n",
       "      <td>17.900000</td>\n",
       "      <td>0.000000</td>\n",
       "      <td>2.600000</td>\n",
       "      <td>4.800000</td>\n",
       "      <td>31.000000</td>\n",
       "      <td>7.000000</td>\n",
       "      <td>13.000000</td>\n",
       "      <td>57.000000</td>\n",
       "      <td>37.000000</td>\n",
       "      <td>1012.90000</td>\n",
       "      <td>1010.400000</td>\n",
       "      <td>1.000000</td>\n",
       "      <td>2.000000</td>\n",
       "      <td>12.300000</td>\n",
       "      <td>16.60000</td>\n",
       "    </tr>\n",
       "    <tr>\n",
       "      <th>50%</th>\n",
       "      <td>12.000000</td>\n",
       "      <td>22.600000</td>\n",
       "      <td>0.000000</td>\n",
       "      <td>4.800000</td>\n",
       "      <td>8.400000</td>\n",
       "      <td>39.000000</td>\n",
       "      <td>13.000000</td>\n",
       "      <td>19.000000</td>\n",
       "      <td>70.000000</td>\n",
       "      <td>52.000000</td>\n",
       "      <td>1017.60000</td>\n",
       "      <td>1015.200000</td>\n",
       "      <td>5.000000</td>\n",
       "      <td>5.000000</td>\n",
       "      <td>16.700000</td>\n",
       "      <td>21.10000</td>\n",
       "    </tr>\n",
       "    <tr>\n",
       "      <th>75%</th>\n",
       "      <td>16.900000</td>\n",
       "      <td>28.200000</td>\n",
       "      <td>0.800000</td>\n",
       "      <td>7.400000</td>\n",
       "      <td>10.600000</td>\n",
       "      <td>48.000000</td>\n",
       "      <td>19.000000</td>\n",
       "      <td>24.000000</td>\n",
       "      <td>83.000000</td>\n",
       "      <td>66.000000</td>\n",
       "      <td>1022.40000</td>\n",
       "      <td>1020.000000</td>\n",
       "      <td>7.000000</td>\n",
       "      <td>7.000000</td>\n",
       "      <td>21.600000</td>\n",
       "      <td>26.40000</td>\n",
       "    </tr>\n",
       "    <tr>\n",
       "      <th>max</th>\n",
       "      <td>33.900000</td>\n",
       "      <td>48.100000</td>\n",
       "      <td>371.000000</td>\n",
       "      <td>145.000000</td>\n",
       "      <td>14.500000</td>\n",
       "      <td>135.000000</td>\n",
       "      <td>130.000000</td>\n",
       "      <td>87.000000</td>\n",
       "      <td>100.000000</td>\n",
       "      <td>100.000000</td>\n",
       "      <td>1041.00000</td>\n",
       "      <td>1039.600000</td>\n",
       "      <td>9.000000</td>\n",
       "      <td>9.000000</td>\n",
       "      <td>40.200000</td>\n",
       "      <td>46.70000</td>\n",
       "    </tr>\n",
       "  </tbody>\n",
       "</table>\n",
       "</div>"
      ],
      "text/plain": [
       "             MinTemp        MaxTemp       Rainfall   Evaporation  \\\n",
       "count  143975.000000  144199.000000  142199.000000  82670.000000   \n",
       "mean       12.194034      23.221348       2.360918      5.468232   \n",
       "std         6.398495       7.119049       8.478060      4.193704   \n",
       "min        -8.500000      -4.800000       0.000000      0.000000   \n",
       "25%         7.600000      17.900000       0.000000      2.600000   \n",
       "50%        12.000000      22.600000       0.000000      4.800000   \n",
       "75%        16.900000      28.200000       0.800000      7.400000   \n",
       "max        33.900000      48.100000     371.000000    145.000000   \n",
       "\n",
       "           Sunshine  WindGustSpeed   WindSpeed9am   WindSpeed3pm  \\\n",
       "count  75625.000000  135197.000000  143693.000000  142398.000000   \n",
       "mean       7.611178      40.035230      14.043426      18.662657   \n",
       "std        3.785483      13.607062       8.915375       8.809800   \n",
       "min        0.000000       6.000000       0.000000       0.000000   \n",
       "25%        4.800000      31.000000       7.000000      13.000000   \n",
       "50%        8.400000      39.000000      13.000000      19.000000   \n",
       "75%       10.600000      48.000000      19.000000      24.000000   \n",
       "max       14.500000     135.000000     130.000000      87.000000   \n",
       "\n",
       "         Humidity9am    Humidity3pm   Pressure9am    Pressure3pm  \\\n",
       "count  142806.000000  140953.000000  130395.00000  130432.000000   \n",
       "mean       68.880831      51.539116    1017.64994    1015.255889   \n",
       "std        19.029164      20.795902       7.10653       7.037414   \n",
       "min         0.000000       0.000000     980.50000     977.100000   \n",
       "25%        57.000000      37.000000    1012.90000    1010.400000   \n",
       "50%        70.000000      52.000000    1017.60000    1015.200000   \n",
       "75%        83.000000      66.000000    1022.40000    1020.000000   \n",
       "max       100.000000     100.000000    1041.00000    1039.600000   \n",
       "\n",
       "           Cloud9am      Cloud3pm        Temp9am       Temp3pm  \n",
       "count  89572.000000  86102.000000  143693.000000  141851.00000  \n",
       "mean       4.447461      4.509930      16.990631      21.68339  \n",
       "std        2.887159      2.720357       6.488753       6.93665  \n",
       "min        0.000000      0.000000      -7.200000      -5.40000  \n",
       "25%        1.000000      2.000000      12.300000      16.60000  \n",
       "50%        5.000000      5.000000      16.700000      21.10000  \n",
       "75%        7.000000      7.000000      21.600000      26.40000  \n",
       "max        9.000000      9.000000      40.200000      46.70000  "
      ]
     },
     "execution_count": 84,
     "metadata": {},
     "output_type": "execute_result"
    }
   ],
   "source": [
    "# Generating descriptive statistics for the dataset\n",
    "dataset.describe()"
   ]
  },
  {
   "cell_type": "code",
   "execution_count": 85,
   "id": "80e76b66",
   "metadata": {
    "scrolled": true
   },
   "outputs": [
    {
     "data": {
      "text/plain": [
       "Canberra            3436\n",
       "Sydney              3344\n",
       "Darwin              3193\n",
       "Melbourne           3193\n",
       "Brisbane            3193\n",
       "Adelaide            3193\n",
       "Perth               3193\n",
       "Hobart              3193\n",
       "Albany              3040\n",
       "MountGambier        3040\n",
       "Ballarat            3040\n",
       "Townsville          3040\n",
       "GoldCoast           3040\n",
       "Cairns              3040\n",
       "Launceston          3040\n",
       "AliceSprings        3040\n",
       "Bendigo             3040\n",
       "Albury              3040\n",
       "MountGinini         3040\n",
       "Wollongong          3040\n",
       "Newcastle           3039\n",
       "Tuggeranong         3039\n",
       "Penrith             3039\n",
       "Woomera             3009\n",
       "Nuriootpa           3009\n",
       "Cobar               3009\n",
       "CoffsHarbour        3009\n",
       "Moree               3009\n",
       "Sale                3009\n",
       "PerthAirport        3009\n",
       "PearceRAAF          3009\n",
       "Witchcliffe         3009\n",
       "BadgerysCreek       3009\n",
       "Mildura             3009\n",
       "NorfolkIsland       3009\n",
       "MelbourneAirport    3009\n",
       "Richmond            3009\n",
       "SydneyAirport       3009\n",
       "WaggaWagga          3009\n",
       "Williamtown         3009\n",
       "Dartmoor            3009\n",
       "Watsonia            3009\n",
       "Portland            3009\n",
       "Walpole             3006\n",
       "NorahHead           3004\n",
       "SalmonGums          3001\n",
       "Katherine           1578\n",
       "Nhil                1578\n",
       "Uluru               1578\n",
       "Name: Location, dtype: int64"
      ]
     },
     "execution_count": 85,
     "metadata": {},
     "output_type": "execute_result"
    }
   ],
   "source": [
    "# Counting the occurrences of each unique value in the \"Location\" column\n",
    "dataset[\"Location\"].value_counts()"
   ]
  },
  {
   "cell_type": "markdown",
   "id": "14ae0304",
   "metadata": {},
   "source": [
    "## Analysis 1:\n",
    "\n",
    "#### Dropping the columns with missing values percentage close to 40\n",
    "#### Dropping the null values from rest of the columns"
   ]
  },
  {
   "cell_type": "code",
   "execution_count": 86,
   "id": "b2517f02",
   "metadata": {},
   "outputs": [],
   "source": [
    "# Dropping selected columns (\"Date\", \"Evaporation\", \"Sunshine\", \"Cloud9am\", \"Cloud3pm\") from the dataset\n",
    "dataset.drop([\"Date\",\"Evaporation\",\"Sunshine\",\"Cloud9am\",\"Cloud3pm\"],axis=1,inplace=True)\n",
    "\n",
    "# Dropping rows with missing values from the dataset\n",
    "dataset.dropna(inplace=True)"
   ]
  },
  {
   "cell_type": "code",
   "execution_count": 42,
   "id": "4e1e865a",
   "metadata": {},
   "outputs": [],
   "source": [
    "def piechart(dataset,cl):\n",
    "    \"\"\"\n",
    "    Generate a pie chart for a specified column in the dataset.\n",
    "\n",
    "    Parameters:\n",
    "    - dataset: Pandas DataFrame\n",
    "    - cl: Column name for which the pie chart is to be generated\n",
    "\n",
    "    Returns:\n",
    "    - String: Information about the success of saving the pie chart or a message about null values\n",
    "    \"\"\"\n",
    "    # Initialize an empty list\n",
    "    lst = []\n",
    "\n",
    "    # Get the count of unique values in the specified column\n",
    "    lst1 = list(dataset[cl].value_counts())\n",
    "    y = np.array(lst1)\n",
    "\n",
    "    # Get unique labels for the pie chart\n",
    "    labels = dataset[cl].unique().tolist()\n",
    "\n",
    "    # Explode the first slice for better visibility\n",
    "    explode = [0.2]\n",
    "\n",
    "    # Create a figure for the pie chart\n",
    "    fig = plt.figure()\n",
    "\n",
    "    for i in range(len(labels)-1):\n",
    "        explode.append(0)\n",
    "        \n",
    "    print(\"The plot for \",cl,\" is: \\n\")\n",
    "    \n",
    "    # Set up the pie chart with labels, explode, autopct, and shadow\n",
    "    try:\n",
    "        plt.pie(y, labels = labels,explode=explode,autopct='%1.1f%%',shadow=True);\n",
    "        plt.tight_layout()\n",
    "        \n",
    "        # Save the pie chart as an image\n",
    "        fig.savefig('piechart.png')\n",
    "        \n",
    "        return \"Pie chart Saved succesfully\"\n",
    "    \n",
    "    except:\n",
    "        return \"Input column has Null values\""
   ]
  },
  {
   "cell_type": "code",
   "execution_count": 43,
   "id": "45c064df",
   "metadata": {},
   "outputs": [
    {
     "name": "stdout",
     "output_type": "stream",
     "text": [
      "The plot for  RainTomorrow  is: \n",
      "\n"
     ]
    },
    {
     "data": {
      "text/plain": [
       "'Pie chart Saved succesfully'"
      ]
     },
     "execution_count": 43,
     "metadata": {},
     "output_type": "execute_result"
    },
    {
     "data": {
      "image/png": "[encoded data removed]",
      "text/plain": [
       "<Figure size 640x480 with 1 Axes>"
      ]
     },
     "metadata": {},
     "output_type": "display_data"
    }
   ],
   "source": [
    "# using the piechart function to generate a pie chart for the \"RainTomorrow\" column in the dataset\n",
    "piechart(dataset,\"RainTomorrow\")"
   ]
  },
  {
   "cell_type": "markdown",
   "id": "f03e79d2",
   "metadata": {},
   "source": [
    "## Analysis 2:\n",
    "\n",
    "#### From the above chart we can see that there is a huge data imbalance in the classes. No occus 77.8% time whereas yes occurs only 22.2% time"
   ]
  },
  {
   "cell_type": "code",
   "execution_count": 44,
   "id": "d299181b",
   "metadata": {},
   "outputs": [],
   "source": [
    "# Creating a copy of the original dataset for further modifications\n",
    "dataset_dummy=dataset.copy()"
   ]
  },
  {
   "cell_type": "markdown",
   "id": "03660deb",
   "metadata": {},
   "source": [
    "## Encoding the categorical value to numbers"
   ]
  },
  {
   "cell_type": "code",
   "execution_count": 45,
   "id": "9686242d",
   "metadata": {},
   "outputs": [],
   "source": [
    "# Using LabelEncoder to encode categorical variables in the dataset\n",
    "label_encoder = preprocessing.LabelEncoder() \n",
    "\n",
    "# Iterating through columns in the dataset and applying label encoding if the column type is the same as the corresponding \n",
    "# column in the copied dataset\n",
    "for i in dataset.columns:\n",
    "    if type(dataset[i][0])==type(dataset_dummy[\"Location\"][0]):\n",
    "\n",
    "        dataset[i]= label_encoder.fit_transform(dataset[i]) "
   ]
  },
  {
   "cell_type": "code",
   "execution_count": 47,
   "id": "3a60743e",
   "metadata": {},
   "outputs": [
    {
     "data": {
      "text/html": [
       "<div>\n",
       "<style scoped>\n",
       "    .dataframe tbody tr th:only-of-type {\n",
       "        vertical-align: middle;\n",
       "    }\n",
       "\n",
       "    .dataframe tbody tr th {\n",
       "        vertical-align: top;\n",
       "    }\n",
       "\n",
       "    .dataframe thead th {\n",
       "        text-align: right;\n",
       "    }\n",
       "</style>\n",
       "<table border=\"1\" class=\"dataframe\">\n",
       "  <thead>\n",
       "    <tr style=\"text-align: right;\">\n",
       "      <th></th>\n",
       "      <th>Location</th>\n",
       "      <th>MinTemp</th>\n",
       "      <th>MaxTemp</th>\n",
       "      <th>Rainfall</th>\n",
       "      <th>WindGustDir</th>\n",
       "      <th>WindGustSpeed</th>\n",
       "      <th>WindDir9am</th>\n",
       "      <th>WindDir3pm</th>\n",
       "      <th>WindSpeed9am</th>\n",
       "      <th>WindSpeed3pm</th>\n",
       "      <th>Humidity9am</th>\n",
       "      <th>Humidity3pm</th>\n",
       "      <th>Pressure9am</th>\n",
       "      <th>Pressure3pm</th>\n",
       "      <th>Temp9am</th>\n",
       "      <th>Temp3pm</th>\n",
       "      <th>RainToday</th>\n",
       "      <th>RainTomorrow</th>\n",
       "    </tr>\n",
       "  </thead>\n",
       "  <tbody>\n",
       "    <tr>\n",
       "      <th>0</th>\n",
       "      <td>1</td>\n",
       "      <td>13.4</td>\n",
       "      <td>22.9</td>\n",
       "      <td>0.6</td>\n",
       "      <td>13</td>\n",
       "      <td>44.0</td>\n",
       "      <td>13</td>\n",
       "      <td>14</td>\n",
       "      <td>20.0</td>\n",
       "      <td>24.0</td>\n",
       "      <td>71.0</td>\n",
       "      <td>22.0</td>\n",
       "      <td>1007.7</td>\n",
       "      <td>1007.1</td>\n",
       "      <td>16.9</td>\n",
       "      <td>21.8</td>\n",
       "      <td>0</td>\n",
       "      <td>0</td>\n",
       "    </tr>\n",
       "    <tr>\n",
       "      <th>1</th>\n",
       "      <td>1</td>\n",
       "      <td>7.4</td>\n",
       "      <td>25.1</td>\n",
       "      <td>0.0</td>\n",
       "      <td>14</td>\n",
       "      <td>44.0</td>\n",
       "      <td>6</td>\n",
       "      <td>15</td>\n",
       "      <td>4.0</td>\n",
       "      <td>22.0</td>\n",
       "      <td>44.0</td>\n",
       "      <td>25.0</td>\n",
       "      <td>1010.6</td>\n",
       "      <td>1007.8</td>\n",
       "      <td>17.2</td>\n",
       "      <td>24.3</td>\n",
       "      <td>0</td>\n",
       "      <td>0</td>\n",
       "    </tr>\n",
       "    <tr>\n",
       "      <th>2</th>\n",
       "      <td>1</td>\n",
       "      <td>12.9</td>\n",
       "      <td>25.7</td>\n",
       "      <td>0.0</td>\n",
       "      <td>15</td>\n",
       "      <td>46.0</td>\n",
       "      <td>13</td>\n",
       "      <td>15</td>\n",
       "      <td>19.0</td>\n",
       "      <td>26.0</td>\n",
       "      <td>38.0</td>\n",
       "      <td>30.0</td>\n",
       "      <td>1007.6</td>\n",
       "      <td>1008.7</td>\n",
       "      <td>21.0</td>\n",
       "      <td>23.2</td>\n",
       "      <td>0</td>\n",
       "      <td>0</td>\n",
       "    </tr>\n",
       "    <tr>\n",
       "      <th>3</th>\n",
       "      <td>1</td>\n",
       "      <td>9.2</td>\n",
       "      <td>28.0</td>\n",
       "      <td>0.0</td>\n",
       "      <td>4</td>\n",
       "      <td>24.0</td>\n",
       "      <td>9</td>\n",
       "      <td>0</td>\n",
       "      <td>11.0</td>\n",
       "      <td>9.0</td>\n",
       "      <td>45.0</td>\n",
       "      <td>16.0</td>\n",
       "      <td>1017.6</td>\n",
       "      <td>1012.8</td>\n",
       "      <td>18.1</td>\n",
       "      <td>26.5</td>\n",
       "      <td>0</td>\n",
       "      <td>0</td>\n",
       "    </tr>\n",
       "    <tr>\n",
       "      <th>4</th>\n",
       "      <td>1</td>\n",
       "      <td>17.5</td>\n",
       "      <td>32.3</td>\n",
       "      <td>1.0</td>\n",
       "      <td>13</td>\n",
       "      <td>41.0</td>\n",
       "      <td>1</td>\n",
       "      <td>7</td>\n",
       "      <td>7.0</td>\n",
       "      <td>20.0</td>\n",
       "      <td>82.0</td>\n",
       "      <td>33.0</td>\n",
       "      <td>1010.8</td>\n",
       "      <td>1006.0</td>\n",
       "      <td>17.8</td>\n",
       "      <td>29.7</td>\n",
       "      <td>0</td>\n",
       "      <td>0</td>\n",
       "    </tr>\n",
       "  </tbody>\n",
       "</table>\n",
       "</div>"
      ],
      "text/plain": [
       "   Location  MinTemp  MaxTemp  Rainfall  WindGustDir  WindGustSpeed  \\\n",
       "0         1     13.4     22.9       0.6           13           44.0   \n",
       "1         1      7.4     25.1       0.0           14           44.0   \n",
       "2         1     12.9     25.7       0.0           15           46.0   \n",
       "3         1      9.2     28.0       0.0            4           24.0   \n",
       "4         1     17.5     32.3       1.0           13           41.0   \n",
       "\n",
       "   WindDir9am  WindDir3pm  WindSpeed9am  WindSpeed3pm  Humidity9am  \\\n",
       "0          13          14          20.0          24.0         71.0   \n",
       "1           6          15           4.0          22.0         44.0   \n",
       "2          13          15          19.0          26.0         38.0   \n",
       "3           9           0          11.0           9.0         45.0   \n",
       "4           1           7           7.0          20.0         82.0   \n",
       "\n",
       "   Humidity3pm  Pressure9am  Pressure3pm  Temp9am  Temp3pm  RainToday  \\\n",
       "0         22.0       1007.7       1007.1     16.9     21.8          0   \n",
       "1         25.0       1010.6       1007.8     17.2     24.3          0   \n",
       "2         30.0       1007.6       1008.7     21.0     23.2          0   \n",
       "3         16.0       1017.6       1012.8     18.1     26.5          0   \n",
       "4         33.0       1010.8       1006.0     17.8     29.7          0   \n",
       "\n",
       "   RainTomorrow  \n",
       "0             0  \n",
       "1             0  \n",
       "2             0  \n",
       "3             0  \n",
       "4             0  "
      ]
     },
     "execution_count": 47,
     "metadata": {},
     "output_type": "execute_result"
    }
   ],
   "source": [
    "dataset.head()"
   ]
  },
  {
   "cell_type": "markdown",
   "id": "6fdda4fb",
   "metadata": {},
   "source": [
    "## Dividing the dataset in x and y"
   ]
  },
  {
   "cell_type": "code",
   "execution_count": 48,
   "id": "eea21cc5",
   "metadata": {},
   "outputs": [],
   "source": [
    "# Separating the dataset into features (x) and the target variable (y)\n",
    "x=dataset.drop(\"RainTomorrow\",axis=1)  # Features\n",
    "y=dataset[\"RainTomorrow\"] # Target variable"
   ]
  },
  {
   "cell_type": "markdown",
   "id": "d006d4df",
   "metadata": {},
   "source": [
    "### Using SMOTE"
   ]
  },
  {
   "cell_type": "code",
   "execution_count": 49,
   "id": "ac65f159",
   "metadata": {},
   "outputs": [
    {
     "name": "stdout",
     "output_type": "stream",
     "text": [
      "Before OverSampling, counts of label '1':  25019\n",
      "Before OverSampling, counts of label '0':  87906\n"
     ]
    }
   ],
   "source": [
    "# Printing the counts of each class before oversampling\n",
    "print(\"Before OverSampling, counts of label '1': \",str(sum(y==1))) \n",
    "print(\"Before OverSampling, counts of label '0': \",str(sum(y==0)))\n",
    "\n",
    "# Importing SMOTE and applying oversampling to balance the classes\n",
    "from imblearn.over_sampling import SMOTE\n",
    "\n",
    "# Creating an instance of SMOTE\n",
    "sm = SMOTE(random_state = 2) \n",
    "\n",
    "# Applying SMOTE to generate synthetic samples and balance the classes\n",
    "x_new, y_new = sm.fit_resample(x, y) "
   ]
  },
  {
   "cell_type": "code",
   "execution_count": 50,
   "id": "273a88be",
   "metadata": {},
   "outputs": [
    {
     "name": "stdout",
     "output_type": "stream",
     "text": [
      "After OverSampling label '1':  87906\n",
      "After OverSamplinglabel '0':  87906\n"
     ]
    }
   ],
   "source": [
    "# Printing the counts of each class after oversampling\n",
    "print(\"After OverSampling label '1': \",str(sum(y_new==1))) \n",
    "print(\"After OverSamplinglabel '0': \",str(sum(y_new==0))) "
   ]
  },
  {
   "cell_type": "code",
   "execution_count": 51,
   "id": "bd44cd73",
   "metadata": {},
   "outputs": [],
   "source": [
    "# Splitting the oversampled dataset into training and testing sets\n",
    "# x_train: features for training\n",
    "# x_test: features for testing\n",
    "# y_train: target variable for training\n",
    "# y_test: target variable for testing\n",
    "x_train, x_test, y_train, y_test = train_test_split(x_new, y_new, test_size=0.3, random_state=42)"
   ]
  },
  {
   "cell_type": "code",
   "execution_count": 52,
   "id": "a88dc745",
   "metadata": {},
   "outputs": [
    {
     "data": {
      "text/plain": [
       "(123068, 17)"
      ]
     },
     "execution_count": 52,
     "metadata": {},
     "output_type": "execute_result"
    }
   ],
   "source": [
    "# Checking the shape of the training features\n",
    "x_train.shape"
   ]
  },
  {
   "cell_type": "code",
   "execution_count": 68,
   "id": "4bb7a1a2",
   "metadata": {},
   "outputs": [
    {
     "data": {
      "text/plain": [
       "(52744, 17)"
      ]
     },
     "execution_count": 68,
     "metadata": {},
     "output_type": "execute_result"
    }
   ],
   "source": [
    "# Checking the shape of the test features\n",
    "x_test.shape"
   ]
  },
  {
   "cell_type": "markdown",
   "id": "ed0aa8b1",
   "metadata": {},
   "source": [
    "# Creating a Artificial Neural Network"
   ]
  },
  {
   "cell_type": "code",
   "execution_count": 75,
   "id": "f2216911",
   "metadata": {
    "scrolled": true
   },
   "outputs": [
    {
     "name": "stdout",
     "output_type": "stream",
     "text": [
      "Epoch 1/50\n",
      "4923/4923 [==============================] - 28s 5ms/step - loss: 0.5673 - accuracy: 0.7369 - val_loss: 0.4720 - val_accuracy: 0.7738\n",
      "Epoch 2/50\n",
      "4923/4923 [==============================] - 26s 5ms/step - loss: 0.4840 - accuracy: 0.7669 - val_loss: 0.4682 - val_accuracy: 0.7781\n",
      "Epoch 3/50\n",
      "4923/4923 [==============================] - 26s 5ms/step - loss: 0.4750 - accuracy: 0.7733 - val_loss: 0.4833 - val_accuracy: 0.7737\n",
      "Epoch 4/50\n",
      "4923/4923 [==============================] - 26s 5ms/step - loss: 0.4706 - accuracy: 0.7753 - val_loss: 0.4780 - val_accuracy: 0.7680\n",
      "Epoch 5/50\n",
      "4923/4923 [==============================] - 26s 5ms/step - loss: 0.4677 - accuracy: 0.7772 - val_loss: 0.4658 - val_accuracy: 0.7773\n",
      "Epoch 6/50\n",
      "4923/4923 [==============================] - 27s 5ms/step - loss: 0.4661 - accuracy: 0.7788 - val_loss: 0.4662 - val_accuracy: 0.7787\n",
      "Epoch 7/50\n",
      "4923/4923 [==============================] - 26s 5ms/step - loss: 0.4634 - accuracy: 0.7789 - val_loss: 0.4705 - val_accuracy: 0.7699\n",
      "Epoch 8/50\n",
      "4923/4923 [==============================] - 26s 5ms/step - loss: 0.4610 - accuracy: 0.7820 - val_loss: 0.4692 - val_accuracy: 0.7826\n",
      "Epoch 9/50\n",
      "4923/4923 [==============================] - 27s 5ms/step - loss: 0.4595 - accuracy: 0.7812 - val_loss: 0.4600 - val_accuracy: 0.7825\n",
      "Epoch 10/50\n",
      "4923/4923 [==============================] - 26s 5ms/step - loss: 0.4580 - accuracy: 0.7833 - val_loss: 0.4620 - val_accuracy: 0.7819\n",
      "Epoch 11/50\n",
      "4923/4923 [==============================] - 26s 5ms/step - loss: 0.4575 - accuracy: 0.7836 - val_loss: 0.4546 - val_accuracy: 0.7861\n",
      "Epoch 12/50\n",
      "4923/4923 [==============================] - 26s 5ms/step - loss: 0.4552 - accuracy: 0.7841 - val_loss: 0.4572 - val_accuracy: 0.7844\n",
      "Epoch 13/50\n",
      "4923/4923 [==============================] - 27s 5ms/step - loss: 0.4540 - accuracy: 0.7851 - val_loss: 0.4547 - val_accuracy: 0.7869\n",
      "Epoch 14/50\n",
      "4923/4923 [==============================] - 26s 5ms/step - loss: 0.4527 - accuracy: 0.7865 - val_loss: 0.4527 - val_accuracy: 0.7876\n",
      "Epoch 15/50\n",
      "4923/4923 [==============================] - 26s 5ms/step - loss: 0.4521 - accuracy: 0.7873 - val_loss: 0.4532 - val_accuracy: 0.7859\n",
      "Epoch 16/50\n",
      "4923/4923 [==============================] - 27s 5ms/step - loss: 0.4503 - accuracy: 0.7871 - val_loss: 0.4677 - val_accuracy: 0.7726\n",
      "Epoch 17/50\n",
      "4923/4923 [==============================] - 26s 5ms/step - loss: 0.4492 - accuracy: 0.7881 - val_loss: 0.4649 - val_accuracy: 0.7755\n",
      "Epoch 18/50\n",
      "4923/4923 [==============================] - 26s 5ms/step - loss: 0.4489 - accuracy: 0.7885 - val_loss: 0.4477 - val_accuracy: 0.7900\n",
      "Epoch 19/50\n",
      "4923/4923 [==============================] - 26s 5ms/step - loss: 0.4478 - accuracy: 0.7887 - val_loss: 0.4495 - val_accuracy: 0.7881\n",
      "Epoch 20/50\n",
      "4923/4923 [==============================] - 26s 5ms/step - loss: 0.4470 - accuracy: 0.7902 - val_loss: 0.4501 - val_accuracy: 0.7881\n",
      "Epoch 21/50\n",
      "4923/4923 [==============================] - 26s 5ms/step - loss: 0.4462 - accuracy: 0.7894 - val_loss: 0.4502 - val_accuracy: 0.7870\n",
      "Epoch 22/50\n",
      "4923/4923 [==============================] - 26s 5ms/step - loss: 0.4445 - accuracy: 0.7915 - val_loss: 0.4508 - val_accuracy: 0.7897\n",
      "Epoch 23/50\n",
      "4923/4923 [==============================] - 25s 5ms/step - loss: 0.4435 - accuracy: 0.7913 - val_loss: 0.4488 - val_accuracy: 0.7904\n"
     ]
    }
   ],
   "source": [
    "# Number of features in the input\n",
    "num_features = x_train.shape[1]\n",
    "\n",
    "# Create a Sequential model\n",
    "model = Sequential()\n",
    "\n",
    "# Input layer with ReLU activation function\n",
    "model.add(Dense(units=x_train.shape[1], activation='relu', input_dim=num_features))\n",
    "\n",
    "# Hidden layers with ReLU activation function\n",
    "model.add(Dense(units=64, activation='relu'))\n",
    "model.add(Dense(units=64, activation='relu'))\n",
    "model.add(Dense(units=64, activation='relu'))\n",
    "\n",
    "# Output layer with Sigmoid activation function (for binary classification)\n",
    "model.add(Dense(units=1, activation='sigmoid'))\n",
    "\n",
    "# Compile the model with binary crossentropy loss and Adam optimizer\n",
    "model.compile(loss='binary_crossentropy', optimizer=Adam(learning_rate=0.001), metrics=['accuracy'])\n",
    "\n",
    "# Define early stopping criteria\n",
    "early_stopping = tf.keras.callbacks.EarlyStopping(monitor='val_loss', patience=5, restore_best_weights=True)\n",
    "\n",
    "# Train the model using backpropagation\n",
    "history = model.fit(x_train, y_train, epochs=50, batch_size=20, validation_split=0.2, callbacks=[early_stopping])"
   ]
  },
  {
   "cell_type": "code",
   "execution_count": 76,
   "id": "ca693a78",
   "metadata": {},
   "outputs": [],
   "source": [
    "# Save the trained model to a file\n",
    "model.save('annmod.h5')"
   ]
  },
  {
   "cell_type": "code",
   "execution_count": 77,
   "id": "65d76240",
   "metadata": {},
   "outputs": [
    {
     "data": {
      "image/png": "[encoded data removed]",
      "text/plain": [
       "<Figure size 1200x400 with 2 Axes>"
      ]
     },
     "metadata": {},
     "output_type": "display_data"
    }
   ],
   "source": [
    "# Create a figure with two subplots for loss and accuracy\n",
    "plt.figure(figsize=(12, 4))\n",
    "\n",
    "# Plot training & validation loss values\n",
    "plt.subplot(1, 2, 1)\n",
    "plt.plot(history.history['loss'],marker='x',color='orange',linestyle='dotted')\n",
    "\n",
    "plt.title('Model loss')\n",
    "plt.xlabel('Epoch')\n",
    "plt.ylabel('Loss')\n",
    "\n",
    "# Plot training accuracy\n",
    "plt.subplot(1, 2, 2)\n",
    "plt.plot(history.history['accuracy'],marker='x',linestyle='dotted')\n",
    "\n",
    "plt.title('Model accuracy')\n",
    "plt.xlabel('Epoch')\n",
    "plt.ylabel('Accuracy')\n",
    "\n",
    "# Show the plots\n",
    "plt.show()"
   ]
  },
  {
   "cell_type": "code",
   "execution_count": 78,
   "id": "9e8f0d71",
   "metadata": {},
   "outputs": [],
   "source": [
    "# Load the saved model from the file 'model.h5'\n",
    "model_final = load_model('annmod.h5')"
   ]
  },
  {
   "cell_type": "markdown",
   "id": "78b4b6a8",
   "metadata": {},
   "source": [
    "# Evaluating the accuracy"
   ]
  },
  {
   "cell_type": "code",
   "execution_count": 79,
   "id": "b5e03bf9",
   "metadata": {},
   "outputs": [
    {
     "name": "stdout",
     "output_type": "stream",
     "text": [
      "1649/1649 [==============================] - 5s 3ms/step\n",
      "Accuracy on the test set: 0.7920\n"
     ]
    }
   ],
   "source": [
    "# Predict on the test set\n",
    "y_pred = model_final.predict(x_test)\n",
    "\n",
    "# Convert probabilities to binary predictions (0 or 1)\n",
    "y_pred_binary = (y_pred > 0.5).astype(int)\n",
    "\n",
    "# Evaluate the accuracy\n",
    "accuracy = accuracy_score(y_test, y_pred_binary)\n",
    "print(f'Accuracy on the test set: {accuracy:.4f}')"
   ]
  },
  {
   "cell_type": "code",
   "execution_count": 59,
   "id": "67139ec7",
   "metadata": {},
   "outputs": [
    {
     "data": {
      "text/plain": [
       "array([[0.02894058],\n",
       "       [0.12523846],\n",
       "       [0.30836695],\n",
       "       ...,\n",
       "       [0.16196153],\n",
       "       [0.95864385],\n",
       "       [0.7276201 ]], dtype=float32)"
      ]
     },
     "execution_count": 59,
     "metadata": {},
     "output_type": "execute_result"
    }
   ],
   "source": [
    "y_pred"
   ]
  },
  {
   "cell_type": "code",
   "execution_count": 60,
   "id": "f825014e",
   "metadata": {},
   "outputs": [
    {
     "data": {
      "text/plain": [
       "array([[0],\n",
       "       [0],\n",
       "       [0],\n",
       "       ...,\n",
       "       [0],\n",
       "       [1],\n",
       "       [1]])"
      ]
     },
     "execution_count": 60,
     "metadata": {},
     "output_type": "execute_result"
    }
   ],
   "source": [
    "y_pred_binary"
   ]
  },
  {
   "cell_type": "code",
   "execution_count": null,
   "id": "ece1f12d",
   "metadata": {},
   "outputs": [],
   "source": []
  },
  {
   "cell_type": "markdown",
   "id": "5c1250dd",
   "metadata": {},
   "source": [
    "# Hyper-parameter Tuning"
   ]
  },
  {
   "cell_type": "code",
   "execution_count": 62,
   "id": "d01e7c1c",
   "metadata": {},
   "outputs": [
    {
     "name": "stderr",
     "output_type": "stream",
     "text": [
      "C:\\Users\\ambat\\AppData\\Local\\Temp\\ipykernel_28324\\2720857395.py:21: DeprecationWarning: KerasClassifier is deprecated, use Sci-Keras (https://github.com/adriangb/scikeras) instead. See https://www.adriangb.com/scikeras/stable/migration.html for help migrating.\n",
      "  keras_classifier = KerasClassifier(build_fn=create_model, epochs=50, batch_size=20, validation_split=0.2, verbose=0)\n"
     ]
    },
    {
     "name": "stdout",
     "output_type": "stream",
     "text": [
      "units1: 64  units2: 64  units3: 64  learning_rate: 0.001\n",
      "1923/1923 [==============================] - 3s 1ms/step\n",
      "units1: 64  units2: 64  units3: 64  learning_rate: 0.001\n",
      "1923/1923 [==============================] - 3s 1ms/step\n",
      "units1: 64  units2: 128  units3: 64  learning_rate: 0.001\n",
      "1923/1923 [==============================] - 3s 1ms/step\n",
      "units1: 64  units2: 128  units3: 64  learning_rate: 0.001\n",
      "1923/1923 [==============================] - 4s 2ms/step\n",
      "units1: 128  units2: 64  units3: 64  learning_rate: 0.001\n",
      "1923/1923 [==============================] - 4s 2ms/step\n",
      "units1: 128  units2: 64  units3: 64  learning_rate: 0.001\n",
      "1923/1923 [==============================] - 4s 2ms/step\n",
      "units1: 128  units2: 128  units3: 64  learning_rate: 0.001\n",
      "1923/1923 [==============================] - 3s 1ms/step\n",
      "units1: 128  units2: 128  units3: 64  learning_rate: 0.001\n",
      "1923/1923 [==============================] - 4s 2ms/step\n",
      "units1: 64  units2: 64  units3: 64  learning_rate: 0.01\n",
      "1923/1923 [==============================] - 4s 2ms/step\n",
      "units1: 64  units2: 64  units3: 64  learning_rate: 0.01\n",
      "1923/1923 [==============================] - 4s 2ms/step\n",
      "units1: 64  units2: 128  units3: 64  learning_rate: 0.01\n",
      "1923/1923 [==============================] - 3s 2ms/step\n",
      "units1: 64  units2: 128  units3: 64  learning_rate: 0.01\n",
      "1923/1923 [==============================] - 3s 2ms/step\n",
      "units1: 128  units2: 64  units3: 64  learning_rate: 0.01\n",
      "1923/1923 [==============================] - 2s 1ms/step\n",
      "units1: 128  units2: 64  units3: 64  learning_rate: 0.01\n",
      "1923/1923 [==============================] - 3s 2ms/step\n",
      "units1: 128  units2: 128  units3: 64  learning_rate: 0.01\n",
      "1923/1923 [==============================] - 3s 1ms/step\n",
      "units1: 128  units2: 128  units3: 64  learning_rate: 0.01\n",
      "1923/1923 [==============================] - 3s 1ms/step\n",
      "units1: 128  units2: 64  units3: 64  learning_rate: 0.001\n",
      "Best parameters found:  {'learning_rate': 0.001, 'units1': 128, 'units2': 64}\n",
      "Best accuracy found:  0.7906279455260505\n"
     ]
    }
   ],
   "source": [
    "from sklearn.model_selection import GridSearchCV\n",
    "from tensorflow.keras.wrappers.scikit_learn import KerasClassifier\n",
    "\n",
    "# Define a function to create the Keras model\n",
    "def create_model(units1=64, units2=64, units3=64, learning_rate=0.001):\n",
    "    print(\"units1: \" + str(units1) + \"  \" + \"units2: \" + str(units2) + \"  \"+ \"units3: \"  + str(units3) + \"  \" \n",
    "          + \"learning_rate: \" + str(learning_rate))\n",
    "    model = Sequential()\n",
    "    model.add(Dense(units=x_train.shape[1], activation='relu', input_dim=num_features))\n",
    "    model.add(Dense(units=units1, activation='relu'))\n",
    "    model.add(Dense(units=units2, activation='relu'))\n",
    "    model.add(Dense(units=units3, activation='relu'))\n",
    "    model.add(Dense(units=1, activation='sigmoid'))\n",
    "    \n",
    "    optimizer = Adam(learning_rate=learning_rate)\n",
    "    model.compile(loss='binary_crossentropy', optimizer=optimizer, metrics=['accuracy'])\n",
    "    \n",
    "    return model\n",
    "\n",
    "# Create a KerasClassifier with the create_model function\n",
    "keras_classifier = KerasClassifier(build_fn=create_model, epochs=50, batch_size=20, validation_split=0.2, verbose=0)\n",
    "\n",
    "# Define the hyperparameters to search\n",
    "param_grid = {\n",
    "    'units1': [64, 128],\n",
    "    'units2': [64, 128],\n",
    "    'learning_rate': [0.001, 0.01]\n",
    "}\n",
    "\n",
    "# Use GridSearchCV to search for the best combination of hyperparameters\n",
    "grid = GridSearchCV(estimator=keras_classifier, param_grid=param_grid, scoring='accuracy', cv=2)\n",
    "grid_result = grid.fit(x_train, y_train)\n",
    "\n",
    "# Print the best parameters and accuracy\n",
    "print(\"Best parameters found: \", grid_result.best_params_)\n",
    "print(\"Best accuracy found: \", grid_result.best_score_)"
   ]
  },
  {
   "cell_type": "code",
   "execution_count": null,
   "id": "3e7d51f9",
   "metadata": {},
   "outputs": [],
   "source": []
  }
 ],
 "metadata": {
  "kernelspec": {
   "display_name": "Python 3 (ipykernel)",
   "language": "python",
   "name": "python3"
  },
  "language_info": {
   "codemirror_mode": {
    "name": "ipython",
    "version": 3
   },
   "file_extension": ".py",
   "mimetype": "text/x-python",
   "name": "python",
   "nbconvert_exporter": "python",
   "pygments_lexer": "ipython3",
   "version": "3.9.13"
  }
 },
 "nbformat": 4,
 "nbformat_minor": 5
}
